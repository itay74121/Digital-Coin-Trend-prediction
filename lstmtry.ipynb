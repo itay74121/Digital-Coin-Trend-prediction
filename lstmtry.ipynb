{
 "cells": [
  {
   "cell_type": "code",
   "execution_count": 1,
   "metadata": {},
   "outputs": [],
   "source": [
    "\n",
    "# import tensorflow as tf\n",
    "import pandas as pd\n",
    "from glob import glob\n",
    "from collection.Collection import collect4\n",
    "from json import loads\n",
    "import numpy as np\n",
    "from matplotlib import pyplot as plt\n"
   ]
  },
  {
   "cell_type": "markdown",
   "metadata": {},
   "source": [
    "# Answers load"
   ]
  },
  {
   "cell_type": "markdown",
   "metadata": {},
   "source": [
    "# data load "
   ]
  },
  {
   "cell_type": "code",
   "execution_count": 10,
   "metadata": {},
   "outputs": [
    {
     "data": {
      "image/png": "[encoded data removed]",
      "text/plain": [
       "<Figure size 432x288 with 1 Axes>"
      ]
     },
     "metadata": {
      "needs_background": "light"
     },
     "output_type": "display_data"
    },
    {
     "data": {
      "image/png": "[encoded data removed]",
      "text/plain": [
       "<Figure size 432x288 with 1 Axes>"
      ]
     },
     "metadata": {
      "needs_background": "light"
     },
     "output_type": "display_data"
    },
    {
     "name": "stdout",
     "output_type": "stream",
     "text": [
      "1.0 1.0\n"
     ]
    }
   ],
   "source": [
    "files = glob(\"./data/LOBdata*.csv\")\n",
    "# files = [i for i in files if int(i[9:-4]) >= 17]\n",
    "df1  = pd.concat([pd.read_csv(i) for i in files],ignore_index=True)\n",
    "df1 = df1.drop(df1.columns[:2],axis=1)\n",
    "# df1 = df1[df1.columns[2:]]\n",
    "city = df1[df1.coin=='CITY']\n",
    "city = city[city['label']==1]\n",
    "m = np.array(loads(city.iloc[0].matrix))\n",
    "plt.boxplot(m[:,1::2])\n",
    "plt.show()\n",
    "m = np.array(loads(city.iloc[1].matrix))\n",
    "plt.boxplot(m[:,1::2])\n",
    "plt.show()\n",
    "print(city.iloc[0].label,city.iloc[1].label)\n",
    "# m = np.array(loads(city.iloc[1].matrix))\n",
    "# fig = plt.figure(figsize=(20,10))\n",
    "# plt.boxplot(m)\n",
    "# plt.show()"
   ]
  },
  {
   "cell_type": "code",
   "execution_count": 5,
   "metadata": {},
   "outputs": [],
   "source": [
    "coin  = 'CITYUSDT'\n",
    "\n",
    "df1 = df1[df1.coin == coin]\n",
    "# df1.sort_index(['starttime'])\n",
    "# list(df1.starttime)\n"
   ]
  },
  {
   "cell_type": "code",
   "execution_count": 9,
   "metadata": {},
   "outputs": [],
   "source": [
    "dfs  = []\n",
    "for i in range(len(df1)//60):\n",
    "    d = df1[i*60:(i+1)*60]\n",
    "    dfs.append(d)\n",
    "\n",
    "X = []\n",
    "Y = []\n",
    "\n",
    "for df in dfs:\n",
    "    ms = []\n",
    "    for m in df['matrix']:\n",
    "        ms.append(loads(m))\n",
    "    X.append(ms)\n",
    "    t = int(df.iloc[len(df)-1].starttime)*1000\n",
    "    data = collect4(coin,'1h',t,endtime=t+1000*60*60*10,limit=10)\n",
    "    Y.append(np.reshape(np.array(data,dtype=float)[0:,1:5],(40)))\n",
    "    \n",
    "\n",
    "X = np.reshape(np.array(X),(28,1,60,28))\n",
    "Y = np.array(Y)\n"
   ]
  },
  {
   "cell_type": "code",
   "execution_count": 13,
   "metadata": {},
   "outputs": [
    {
     "data": {
      "text/plain": [
       "((28, 1, 60, 28), (28, 40))"
      ]
     },
     "execution_count": 13,
     "metadata": {},
     "output_type": "execute_result"
    }
   ],
   "source": [
    "X = np.reshape(np.array(X),(28,1,60,28))\n",
    "X.shape,Y.shape"
   ]
  },
  {
   "cell_type": "code",
   "execution_count": 14,
   "metadata": {},
   "outputs": [],
   "source": [
    "nn = torch.nn\n",
    "class mymodel(nn.Module):\n",
    "    def __init__(self):\n",
    "        super().__init__()\n",
    "        m1 = nn.Conv2d(16, 16, (2,28), stride=1)\n",
    "        m2 = nn.Conv2d(16, 8, (10,1), stride=(2,1))\n",
    "        m3 = nn.Conv2d(8, 4, (10,1), stride=(2,1))\n",
    "        m4 = nn.Conv2d(4, 2, (3,1), stride=(2,1))\n",
    "        m5 = nn.Conv2d(2, 1, (2,1), stride=(2,1))\n",
    "        self.layers = [m1,m2,m3,m4,m5]\n",
    "        self.fc1 = nn.Linear(20,128)\n",
    "        self.fc2 = nn.Linear(128,64)\n",
    "        self.fc3 = nn.Linear(64,40)\n",
    "        \n",
    "    def forward(self,x):\n",
    "        y = x\n",
    "        for l in self.layers:\n",
    "            y = l(y)\n",
    "        y = self.fc1(y.flatten())\n",
    "        y = self.fc2(y)\n",
    "        y = self.fc3(y)\n",
    "        return y\n",
    "    \n",
    "        "
   ]
  },
  {
   "cell_type": "code",
   "execution_count": null,
   "metadata": {},
   "outputs": [],
   "source": []
  },
  {
   "cell_type": "code",
   "execution_count": 29,
   "metadata": {},
   "outputs": [
    {
     "name": "stdout",
     "output_type": "stream",
     "text": [
      "torch.Size([20, 16, 59, 1])\n",
      "torch.Size([20, 8, 25, 1])\n",
      "torch.Size([20, 4, 8, 1])\n",
      "torch.Size([20, 2, 3, 1])\n"
     ]
    },
    {
     "data": {
      "text/plain": [
       "tensor([0.1895, 0.1719, 0.3366, 0.2338, 0.2202, 0.2283, 0.2030, 0.2199, 0.2522,\n",
       "        0.0956, 0.2822, 0.3242, 0.1920, 0.1326, 0.3192, 0.2718, 0.2675, 0.1831,\n",
       "        0.3389, 0.2305], grad_fn=<ReshapeAliasBackward0>)"
      ]
     },
     "execution_count": 29,
     "metadata": {},
     "output_type": "execute_result"
    }
   ],
   "source": [
    "# With square kernels and equal stride\n",
    "m1 = nn.Conv2d(16, 16, (2,28), stride=1)\n",
    "m2 = nn.Conv2d(16, 8, (10,1), stride=(2,1))\n",
    "m3 = nn.Conv2d(8, 4, (10,1), stride=(2,1))\n",
    "m4 = nn.Conv2d(4, 2, (3,1), stride=(2,1))\n",
    "m5 = nn.Conv2d(2, 1, (2,1), stride=(2,1))\n",
    "layers = [m1,m2,m3,m4,m5]\n",
    "# non-square kernels and unequal stride and with padding\n",
    "# m = nn.Conv2d(16, 33, (3, 5), stride=(2, 1), padding=(4, 2))\n",
    "# non-square kernels and unequal stride and with padding and dilation\n",
    "# m = nn.Conv2d(16, 33, (3, 5), stride=(2, 1), padding=(4, 2), dilation=(3, 1))\n",
    "i = torch.randn(20, 16, 60, 28)\n",
    "res=  None\n",
    "for l in layers:\n",
    "    if res is not None:\n",
    "        print(res.shape)\n",
    "        res = l(res)\n",
    "    else:\n",
    "        res = l(i)\n",
    "\n",
    "res.flatten()"
   ]
  },
  {
   "cell_type": "code",
   "execution_count": 36,
   "metadata": {},
   "outputs": [
    {
     "data": {
      "text/plain": [
       "tensor([-0.3735, -0.2593,  0.1333, -0.1950, -0.2672, -0.0240,  0.1623,  0.1532,\n",
       "         0.0328,  0.0430, -0.0104,  0.1061,  0.2158, -0.1193, -0.2836, -0.0622,\n",
       "         0.3445,  0.1953, -0.0698, -0.2014, -0.1046, -0.1382,  0.2193, -0.2195,\n",
       "        -0.0491,  0.0809,  0.0939, -0.2630, -0.1907, -0.0065, -0.0117,  0.1499,\n",
       "        -0.1065,  0.0898,  0.1486,  0.1092, -0.1692, -0.1769,  0.0457, -0.1305],\n",
       "       grad_fn=<AddBackward0>)"
      ]
     },
     "execution_count": 36,
     "metadata": {},
     "output_type": "execute_result"
    }
   ],
   "source": [
    "i = torch.randn(20)\n",
    "m = [nn.Linear(20,128),nn.Linear(128,64),nn.Linear(64,40)]\n",
    "y = i\n",
    "for l in m:\n",
    "    y = l(y)\n",
    "y"
   ]
  }
 ],
 "metadata": {
  "interpreter": {
   "hash": "7db821986d699a458b6831c207daf06594b2df0f12601a94f5be5a3a8c1e7e9b"
  },
  "kernelspec": {
   "display_name": "Python 3.7.13 ('envi')",
   "language": "python",
   "name": "python3"
  },
  "language_info": {
   "codemirror_mode": {
    "name": "ipython",
    "version": 3
   },
   "file_extension": ".py",
   "mimetype": "text/x-python",
   "name": "python",
   "nbconvert_exporter": "python",
   "pygments_lexer": "ipython3",
   "version": "3.7.13"
  },
  "orig_nbformat": 4
 },
 "nbformat": 4,
 "nbformat_minor": 2
}
