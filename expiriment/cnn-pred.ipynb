{
 "cells": [
  {
   "cell_type": "code",
   "execution_count": 18,
   "metadata": {},
   "outputs": [],
   "source": [
    "import tensorflow as tf\n",
    "import numpy as np\n",
    "import requests\n",
    "from json import loads\n",
    "from datetime import datetime\n",
    "from time import sleep,time\n",
    "import matplotlib.pyplot as plt"
   ]
  },
  {
   "cell_type": "code",
   "execution_count": 2,
   "metadata": {},
   "outputs": [],
   "source": [
    "url = \"https://www.binance.com/api/v3/klines?symbol={}&interval={}&startTime={}&limit={}\"\n",
    "\n",
    "def gethistoricaldata(symbol,interval,starttime,limit):\n",
    "    u = url.format(symbol,interval,starttime,limit)\n",
    "    s = requests.Session()\n",
    "    text = s.get(u).text\n",
    "    return loads(text) # candle stick history. \n",
    "\n",
    "def collect(symbol,interval,starttime,endtime=None,limit=5000):\n",
    "    if endtime == None:\n",
    "        now = int(time())*1000\n",
    "    else:\n",
    "        now = endtime\n",
    "    lasttime = starttime\n",
    "    t = {'1m':60,'3m':3*60,'5m':5*60,'1h':60*60}\n",
    "    res = []\n",
    "    while lasttime <= now - 1000*t[interval]:\n",
    "        print(lasttime)\n",
    "        data = gethistoricaldata(symbol,interval,lasttime,limit)\n",
    "        res += data\n",
    "        lasttime = data[-1][0]\n",
    "        # sleep(0.1)\n",
    "    return res\n"
   ]
  },
  {
   "cell_type": "code",
   "execution_count": 14,
   "metadata": {},
   "outputs": [
    {
     "name": "stdout",
     "output_type": "stream",
     "text": [
      "1546300800000\n",
      "1600722000000\n",
      "1604318400000\n",
      "1607918400000\n",
      "1611529200000\n",
      "1615132800000\n",
      "1618729200000\n",
      "1622343600000\n",
      "1625940000000\n",
      "1629550800000\n",
      "1633154400000\n",
      "1636750800000\n",
      "1640347200000\n",
      "1643943600000\n",
      "1647540000000\n",
      "1651136400000\n",
      "1654732800000\n"
     ]
    },
    {
     "data": {
      "text/plain": [
       "(691, 24, 5)"
      ]
     },
     "execution_count": 14,
     "metadata": {},
     "output_type": "execute_result"
    }
   ],
   "source": [
    "#################\n",
    "#   Collect \n",
    "#################\n",
    "data = collect(\"SOLUSDT\",'1h',1546300800000)\n",
    "data = [i[1:6] for i in data]\n",
    "# data\n",
    "X = np.array([data[i:i+24] for i in range(0,len(data),24)][:-1],dtype=float)\n",
    "\n",
    "X.shape"
   ]
  },
  {
   "cell_type": "code",
   "execution_count": 15,
   "metadata": {},
   "outputs": [
    {
     "data": {
      "text/plain": [
       "array([[[2.8500000e+00, 3.4700000e+00, 2.8500000e+00, 2.9515000e+00,\n",
       "         2.0032260e+04],\n",
       "        [2.9515000e+00, 3.1355000e+00, 2.8800000e+00, 2.9224000e+00,\n",
       "         4.2069370e+04],\n",
       "        [2.9626000e+00, 3.0000000e+00, 2.9144000e+00, 2.9600000e+00,\n",
       "         2.4280760e+04],\n",
       "        ...,\n",
       "        [3.1317000e+00, 3.3000000e+00, 3.1129000e+00, 3.2802000e+00,\n",
       "         5.5281420e+04],\n",
       "        [3.2802000e+00, 3.2953000e+00, 3.1500000e+00, 3.2611000e+00,\n",
       "         4.0644950e+04],\n",
       "        [3.2478000e+00, 3.2478000e+00, 3.1769000e+00, 3.2296000e+00,\n",
       "         1.7503990e+04]],\n",
       "\n",
       "       [[3.2192000e+00, 3.2641000e+00, 3.1323000e+00, 3.2538000e+00,\n",
       "         6.9963600e+04],\n",
       "        [3.2538000e+00, 3.3661000e+00, 3.2121000e+00, 3.3661000e+00,\n",
       "         6.0332390e+04],\n",
       "        [3.3577000e+00, 3.5200000e+00, 3.3500000e+00, 3.4503000e+00,\n",
       "         2.4497689e+05],\n",
       "        ...,\n",
       "        [3.6449000e+00, 3.8128000e+00, 3.6228000e+00, 3.7593000e+00,\n",
       "         6.1837960e+04],\n",
       "        [3.7404000e+00, 3.9364000e+00, 3.6436000e+00, 3.6822000e+00,\n",
       "         1.2254159e+05],\n",
       "        [3.6865000e+00, 3.8500000e+00, 3.6243000e+00, 3.7458000e+00,\n",
       "         4.9349190e+04]],\n",
       "\n",
       "       [[3.7547000e+00, 3.8997000e+00, 3.7249000e+00, 3.8997000e+00,\n",
       "         3.4680500e+04],\n",
       "        [3.8914000e+00, 4.1387000e+00, 3.8780000e+00, 4.0785000e+00,\n",
       "         1.2845623e+05],\n",
       "        [4.0946000e+00, 4.1222000e+00, 3.6500000e+00, 3.7330000e+00,\n",
       "         2.5130747e+05],\n",
       "        ...,\n",
       "        [3.5973000e+00, 3.6479000e+00, 3.5800000e+00, 3.6250000e+00,\n",
       "         4.4745130e+04],\n",
       "        [3.6251000e+00, 3.6644000e+00, 3.5900000e+00, 3.6644000e+00,\n",
       "         5.0311860e+04],\n",
       "        [3.6502000e+00, 3.7517000e+00, 3.6501000e+00, 3.6759000e+00,\n",
       "         3.4694520e+04]],\n",
       "\n",
       "       ...,\n",
       "\n",
       "       [[3.1910000e+01, 3.1940000e+01, 3.1420000e+01, 3.1610000e+01,\n",
       "         1.6904447e+05],\n",
       "        [3.1610000e+01, 3.2140000e+01, 3.1210000e+01, 3.1950000e+01,\n",
       "         3.7539252e+05],\n",
       "        [3.1950000e+01, 3.1970000e+01, 3.1270000e+01, 3.1660000e+01,\n",
       "         1.7709620e+05],\n",
       "        ...,\n",
       "        [3.2560000e+01, 3.2840000e+01, 3.2340000e+01, 3.2620000e+01,\n",
       "         2.6143662e+05],\n",
       "        [3.2610000e+01, 3.2800000e+01, 3.2380000e+01, 3.2690000e+01,\n",
       "         1.5064542e+05],\n",
       "        [3.2680000e+01, 3.3360000e+01, 3.2440000e+01, 3.3130000e+01,\n",
       "         2.6899670e+05]],\n",
       "\n",
       "       [[3.3140000e+01, 3.3580000e+01, 3.2790000e+01, 3.2920000e+01,\n",
       "         2.9364617e+05],\n",
       "        [3.2900000e+01, 3.3210000e+01, 3.2750000e+01, 3.2920000e+01,\n",
       "         1.4715617e+05],\n",
       "        [3.2930000e+01, 3.3150000e+01, 3.1880000e+01, 3.2000000e+01,\n",
       "         2.8259144e+05],\n",
       "        ...,\n",
       "        [3.2370000e+01, 3.2610000e+01, 3.2320000e+01, 3.2500000e+01,\n",
       "         5.9769180e+04],\n",
       "        [3.2500000e+01, 3.2740000e+01, 3.2410000e+01, 3.2520000e+01,\n",
       "         5.4742790e+04],\n",
       "        [3.2530000e+01, 3.2880000e+01, 3.2400000e+01, 3.2420000e+01,\n",
       "         8.2362030e+04]],\n",
       "\n",
       "       [[3.2430000e+01, 3.2570000e+01, 3.2120000e+01, 3.2230000e+01,\n",
       "         9.1857500e+04],\n",
       "        [3.2230000e+01, 3.2410000e+01, 3.1870000e+01, 3.2350000e+01,\n",
       "         1.4387196e+05],\n",
       "        [3.2340000e+01, 3.2770000e+01, 3.2270000e+01, 3.2650000e+01,\n",
       "         9.7099000e+04],\n",
       "        ...,\n",
       "        [3.3190000e+01, 3.3770000e+01, 3.2600000e+01, 3.2650000e+01,\n",
       "         2.9351424e+05],\n",
       "        [3.2660000e+01, 3.2970000e+01, 3.2550000e+01, 3.2880000e+01,\n",
       "         7.2176860e+04],\n",
       "        [3.2890000e+01, 3.2980000e+01, 3.2760000e+01, 3.2870000e+01,\n",
       "         4.9149700e+04]]])"
      ]
     },
     "execution_count": 15,
     "metadata": {},
     "output_type": "execute_result"
    }
   ],
   "source": [
    "X = np.array(X,dtype=float)\n",
    "X"
   ]
  },
  {
   "cell_type": "code",
   "execution_count": 16,
   "metadata": {},
   "outputs": [],
   "source": [
    "labels = [(i[-1][3] - i[0][0])/i[0][0] for i in X][1:]\n",
    "X = X[:-1]"
   ]
  },
  {
   "cell_type": "code",
   "execution_count": 21,
   "metadata": {},
   "outputs": [
    {
     "data": {
      "text/plain": [
       "(690, 1)"
      ]
     },
     "execution_count": 21,
     "metadata": {},
     "output_type": "execute_result"
    }
   ],
   "source": [
    "labels.shape"
   ]
  },
  {
   "cell_type": "code",
   "execution_count": 22,
   "metadata": {},
   "outputs": [],
   "source": [
    "labels = np.array(labels,dtype=float)\n",
    "labels = labels.reshape((labels.shape[0],1))\n",
    "X = X.reshape((690,1,24,5,1))"
   ]
  },
  {
   "cell_type": "code",
   "execution_count": 23,
   "metadata": {},
   "outputs": [
    {
     "data": {
      "text/plain": [
       "((690, 1, 24, 5, 1), (690, 1))"
      ]
     },
     "execution_count": 23,
     "metadata": {},
     "output_type": "execute_result"
    }
   ],
   "source": [
    "X.shape,labels.shape"
   ]
  },
  {
   "cell_type": "code",
   "execution_count": 47,
   "metadata": {},
   "outputs": [
    {
     "name": "stdout",
     "output_type": "stream",
     "text": [
      "Model: \"model_9\"\n",
      "_________________________________________________________________\n",
      " Layer (type)                Output Shape              Param #   \n",
      "=================================================================\n",
      " input_11 (InputLayer)       [(None, 1, 48, 5, 1)]     0         \n",
      "                                                                 \n",
      " conv2d_62 (Conv2D)          (None, 1, 47, 1, 32)      352       \n",
      "                                                                 \n",
      " conv2d_63 (Conv2D)          (None, 1, 42, 1, 16)      3088      \n",
      "                                                                 \n",
      " conv2d_64 (Conv2D)          (None, 1, 37, 1, 8)       776       \n",
      "                                                                 \n",
      " conv2d_65 (Conv2D)          (None, 1, 32, 1, 4)       196       \n",
      "                                                                 \n",
      " conv2d_66 (Conv2D)          (None, 1, 27, 1, 2)       50        \n",
      "                                                                 \n",
      " conv2d_67 (Conv2D)          (None, 1, 22, 1, 1)       13        \n",
      "                                                                 \n",
      " flatten_11 (Flatten)        (None, 22)                0         \n",
      "                                                                 \n",
      " dense_4 (Dense)             (None, 1)                 23        \n",
      "                                                                 \n",
      " flatten_12 (Flatten)        (None, 1)                 0         \n",
      "                                                                 \n",
      "=================================================================\n",
      "Total params: 4,498\n",
      "Trainable params: 4,498\n",
      "Non-trainable params: 0\n",
      "_________________________________________________________________\n"
     ]
    }
   ],
   "source": [
    "x = tf.keras.layers.Input((1,48,5,1))\n",
    "y = tf.keras.layers.Rescaling(1e-9)(x)\n",
    "y = tf.keras.layers.Conv2D(32,(2,5),activation='relu')(y)\n",
    "y = tf.keras.layers.Conv2D(16,(6,1),activation='relu')(y)\n",
    "y = tf.keras.layers.Conv2D(8,(6,1),activation='relu')(y)\n",
    "y = tf.keras.layers.Conv2D(4,(6,1),activation='relu')(y)\n",
    "y = tf.keras.layers.Conv2D(2,(6,1),activation='relu')(y)\n",
    "y = tf.keras.layers.Conv2D(1,(6,1),activation='relu')(y)\n",
    "y = tf.keras.layers.Flatten()(y)\n",
    "y = tf.keras.layers.Dense(1,activation='relu')(y)\n",
    "m = tf.keras.Model(inputs=x,outputs=y)\n",
    "m.compile(optimizer=tf.keras.optimizers.Adam(learning_rate=1e-5),loss='mean_absolute_error',metrics=['acc'])\n",
    "m.summary()\n",
    "\n"
   ]
  },
  {
   "cell_type": "code",
   "execution_count": 37,
   "metadata": {},
   "outputs": [
    {
     "name": "stdout",
     "output_type": "stream",
     "text": [
      "Epoch 1/100\n",
      "22/22 [==============================] - 0s 12ms/step - loss: 1.0559 - acc: 0.0000e+00\n",
      "Epoch 2/100\n",
      "22/22 [==============================] - 0s 6ms/step - loss: 1.0746 - acc: 0.0000e+00\n",
      "Epoch 3/100\n",
      "22/22 [==============================] - 0s 6ms/step - loss: 1.0732 - acc: 0.0000e+00\n",
      "Epoch 4/100\n",
      "22/22 [==============================] - 0s 6ms/step - loss: 1.0481 - acc: 0.0000e+00\n",
      "Epoch 5/100\n",
      "22/22 [==============================] - 0s 5ms/step - loss: 1.0324 - acc: 0.0000e+00\n",
      "Epoch 6/100\n",
      "22/22 [==============================] - 0s 5ms/step - loss: 1.0232 - acc: 0.0000e+00\n",
      "Epoch 7/100\n",
      "22/22 [==============================] - 0s 6ms/step - loss: 1.0110 - acc: 0.0000e+00\n",
      "Epoch 8/100\n",
      "22/22 [==============================] - 0s 6ms/step - loss: 0.9929 - acc: 0.0000e+00\n",
      "Epoch 9/100\n",
      "22/22 [==============================] - 0s 5ms/step - loss: 0.9855 - acc: 0.0000e+00\n",
      "Epoch 10/100\n",
      "22/22 [==============================] - 0s 5ms/step - loss: 0.9723 - acc: 0.0000e+00\n",
      "Epoch 11/100\n",
      "22/22 [==============================] - 0s 6ms/step - loss: 0.9500 - acc: 0.0000e+00\n",
      "Epoch 12/100\n",
      "22/22 [==============================] - 0s 6ms/step - loss: 0.9577 - acc: 0.0000e+00\n",
      "Epoch 13/100\n",
      "22/22 [==============================] - 0s 6ms/step - loss: 0.9787 - acc: 0.0000e+00\n",
      "Epoch 14/100\n",
      "22/22 [==============================] - 0s 6ms/step - loss: 0.9421 - acc: 0.0000e+00\n",
      "Epoch 15/100\n",
      "22/22 [==============================] - 0s 6ms/step - loss: 0.9222 - acc: 0.0000e+00\n",
      "Epoch 16/100\n",
      "22/22 [==============================] - 0s 7ms/step - loss: 0.9087 - acc: 0.0000e+00\n",
      "Epoch 17/100\n",
      "22/22 [==============================] - 0s 7ms/step - loss: 0.8941 - acc: 0.0000e+00\n",
      "Epoch 18/100\n",
      "22/22 [==============================] - 0s 7ms/step - loss: 0.8817 - acc: 0.0000e+00\n",
      "Epoch 19/100\n",
      "22/22 [==============================] - 0s 7ms/step - loss: 0.8942 - acc: 0.0000e+00\n",
      "Epoch 20/100\n",
      "22/22 [==============================] - 0s 8ms/step - loss: 0.8625 - acc: 0.0000e+00\n",
      "Epoch 21/100\n",
      "22/22 [==============================] - 0s 7ms/step - loss: 0.8311 - acc: 0.0000e+00\n",
      "Epoch 22/100\n",
      "22/22 [==============================] - 0s 7ms/step - loss: 0.8273 - acc: 0.0000e+00\n",
      "Epoch 23/100\n",
      "22/22 [==============================] - 0s 7ms/step - loss: 0.8053 - acc: 0.0000e+00\n",
      "Epoch 24/100\n",
      "22/22 [==============================] - 0s 8ms/step - loss: 0.7860 - acc: 0.0000e+00\n",
      "Epoch 25/100\n",
      "22/22 [==============================] - 0s 8ms/step - loss: 0.7971 - acc: 0.0000e+00\n",
      "Epoch 26/100\n",
      "22/22 [==============================] - 0s 8ms/step - loss: 0.7635 - acc: 0.0000e+00\n",
      "Epoch 27/100\n",
      "22/22 [==============================] - 0s 8ms/step - loss: 0.7424 - acc: 0.0000e+00\n",
      "Epoch 28/100\n",
      "22/22 [==============================] - 0s 8ms/step - loss: 0.7156 - acc: 0.0000e+00\n",
      "Epoch 29/100\n",
      "22/22 [==============================] - 0s 8ms/step - loss: 0.6911 - acc: 0.0000e+00\n",
      "Epoch 30/100\n",
      "22/22 [==============================] - 0s 8ms/step - loss: 0.6773 - acc: 0.0000e+00\n",
      "Epoch 31/100\n",
      "22/22 [==============================] - 0s 8ms/step - loss: 0.6556 - acc: 0.0000e+00\n",
      "Epoch 32/100\n",
      "22/22 [==============================] - 0s 8ms/step - loss: 0.6622 - acc: 0.0000e+00\n",
      "Epoch 33/100\n",
      "22/22 [==============================] - 0s 9ms/step - loss: 0.6376 - acc: 0.0000e+00\n",
      "Epoch 34/100\n",
      "22/22 [==============================] - 0s 8ms/step - loss: 0.6134 - acc: 0.0000e+00\n",
      "Epoch 35/100\n",
      "22/22 [==============================] - 0s 8ms/step - loss: 0.5939 - acc: 0.0000e+00\n",
      "Epoch 36/100\n",
      "22/22 [==============================] - 0s 8ms/step - loss: 0.5724 - acc: 0.0000e+00\n",
      "Epoch 37/100\n",
      "22/22 [==============================] - 0s 8ms/step - loss: 0.5379 - acc: 0.0000e+00\n",
      "Epoch 38/100\n",
      "22/22 [==============================] - 0s 8ms/step - loss: 0.5266 - acc: 0.0000e+00\n",
      "Epoch 39/100\n",
      "22/22 [==============================] - 0s 9ms/step - loss: 0.5254 - acc: 0.0000e+00\n",
      "Epoch 40/100\n",
      "22/22 [==============================] - 0s 8ms/step - loss: 0.5241 - acc: 0.0000e+00\n",
      "Epoch 41/100\n",
      "22/22 [==============================] - 0s 8ms/step - loss: 0.4671 - acc: 0.0000e+00\n",
      "Epoch 42/100\n",
      "22/22 [==============================] - 0s 8ms/step - loss: 0.4737 - acc: 0.0000e+00\n",
      "Epoch 43/100\n",
      "22/22 [==============================] - 0s 8ms/step - loss: 0.4371 - acc: 0.0000e+00\n",
      "Epoch 44/100\n",
      "22/22 [==============================] - 0s 8ms/step - loss: 0.4530 - acc: 0.0000e+00\n",
      "Epoch 45/100\n",
      "22/22 [==============================] - 0s 8ms/step - loss: 0.4259 - acc: 0.0000e+00\n",
      "Epoch 46/100\n",
      "22/22 [==============================] - 0s 9ms/step - loss: 0.4156 - acc: 0.0000e+00\n",
      "Epoch 47/100\n",
      "22/22 [==============================] - 0s 8ms/step - loss: 0.4007 - acc: 0.0000e+00\n",
      "Epoch 48/100\n",
      "22/22 [==============================] - 0s 9ms/step - loss: 0.3944 - acc: 0.0000e+00\n",
      "Epoch 49/100\n",
      "22/22 [==============================] - 0s 10ms/step - loss: 0.3783 - acc: 0.0000e+00\n",
      "Epoch 50/100\n",
      "22/22 [==============================] - 0s 8ms/step - loss: 0.3613 - acc: 0.0000e+00\n",
      "Epoch 51/100\n",
      "22/22 [==============================] - 0s 8ms/step - loss: 0.3602 - acc: 0.0000e+00\n",
      "Epoch 52/100\n",
      "22/22 [==============================] - 0s 8ms/step - loss: 0.3599 - acc: 0.0000e+00\n",
      "Epoch 53/100\n",
      "22/22 [==============================] - 0s 8ms/step - loss: 0.3422 - acc: 0.0000e+00\n",
      "Epoch 54/100\n",
      "22/22 [==============================] - 0s 8ms/step - loss: 0.3419 - acc: 0.0000e+00\n",
      "Epoch 55/100\n",
      "22/22 [==============================] - 0s 8ms/step - loss: 0.3258 - acc: 0.0000e+00\n",
      "Epoch 56/100\n",
      "22/22 [==============================] - 0s 8ms/step - loss: 0.3137 - acc: 0.0000e+00\n",
      "Epoch 57/100\n",
      "22/22 [==============================] - 0s 8ms/step - loss: 0.2970 - acc: 0.0000e+00\n",
      "Epoch 58/100\n",
      "22/22 [==============================] - 0s 8ms/step - loss: 0.2888 - acc: 0.0000e+00\n",
      "Epoch 59/100\n",
      "22/22 [==============================] - 0s 8ms/step - loss: 0.2899 - acc: 0.0000e+00\n",
      "Epoch 60/100\n",
      "22/22 [==============================] - 0s 8ms/step - loss: 0.2860 - acc: 0.0000e+00\n",
      "Epoch 61/100\n",
      "22/22 [==============================] - 0s 8ms/step - loss: 0.2955 - acc: 0.0000e+00\n",
      "Epoch 62/100\n",
      "22/22 [==============================] - 0s 8ms/step - loss: 0.2763 - acc: 0.0000e+00\n",
      "Epoch 63/100\n",
      "22/22 [==============================] - 0s 8ms/step - loss: 0.2671 - acc: 0.0000e+00\n",
      "Epoch 64/100\n",
      "22/22 [==============================] - 0s 8ms/step - loss: 0.2599 - acc: 0.0000e+00\n",
      "Epoch 65/100\n",
      "22/22 [==============================] - 0s 8ms/step - loss: 0.2499 - acc: 0.0000e+00\n",
      "Epoch 66/100\n",
      "22/22 [==============================] - 0s 9ms/step - loss: 0.2726 - acc: 0.0000e+00\n",
      "Epoch 67/100\n",
      "22/22 [==============================] - 0s 8ms/step - loss: 0.2439 - acc: 0.0000e+00\n",
      "Epoch 68/100\n",
      "22/22 [==============================] - 0s 8ms/step - loss: 0.2400 - acc: 0.0000e+00\n",
      "Epoch 69/100\n",
      "22/22 [==============================] - 0s 8ms/step - loss: 0.2364 - acc: 0.0000e+00\n",
      "Epoch 70/100\n",
      "22/22 [==============================] - 0s 8ms/step - loss: 0.2328 - acc: 0.0000e+00\n",
      "Epoch 71/100\n",
      "22/22 [==============================] - 0s 8ms/step - loss: 0.2238 - acc: 0.0000e+00\n",
      "Epoch 72/100\n",
      "22/22 [==============================] - 0s 8ms/step - loss: 0.2160 - acc: 0.0000e+00\n",
      "Epoch 73/100\n",
      "22/22 [==============================] - 0s 8ms/step - loss: 0.2110 - acc: 0.0000e+00\n",
      "Epoch 74/100\n",
      "22/22 [==============================] - 0s 10ms/step - loss: 0.2114 - acc: 0.0000e+00\n",
      "Epoch 75/100\n",
      "22/22 [==============================] - 0s 8ms/step - loss: 0.2045 - acc: 0.0000e+00\n",
      "Epoch 76/100\n",
      "22/22 [==============================] - 0s 8ms/step - loss: 0.1977 - acc: 0.0000e+00\n",
      "Epoch 77/100\n",
      "22/22 [==============================] - 0s 8ms/step - loss: 0.1876 - acc: 0.0000e+00\n",
      "Epoch 78/100\n",
      "22/22 [==============================] - 0s 8ms/step - loss: 0.2081 - acc: 0.0000e+00\n",
      "Epoch 79/100\n",
      "22/22 [==============================] - 0s 8ms/step - loss: 0.2338 - acc: 0.0000e+00\n",
      "Epoch 80/100\n",
      "22/22 [==============================] - 0s 8ms/step - loss: 0.1810 - acc: 0.0000e+00\n",
      "Epoch 81/100\n",
      "22/22 [==============================] - 0s 8ms/step - loss: 0.1774 - acc: 0.0000e+00\n",
      "Epoch 82/100\n",
      "22/22 [==============================] - 0s 8ms/step - loss: 0.1768 - acc: 0.0000e+00\n",
      "Epoch 83/100\n",
      "22/22 [==============================] - 0s 8ms/step - loss: 0.1679 - acc: 0.0000e+00\n",
      "Epoch 84/100\n",
      "22/22 [==============================] - 0s 8ms/step - loss: 0.1594 - acc: 0.0000e+00\n",
      "Epoch 85/100\n",
      "22/22 [==============================] - 0s 8ms/step - loss: 0.1542 - acc: 0.0000e+00\n",
      "Epoch 86/100\n",
      "22/22 [==============================] - 0s 8ms/step - loss: 0.1588 - acc: 0.0000e+00\n",
      "Epoch 87/100\n",
      "22/22 [==============================] - 0s 8ms/step - loss: 0.1562 - acc: 0.0000e+00\n",
      "Epoch 88/100\n",
      "22/22 [==============================] - 0s 9ms/step - loss: 0.1491 - acc: 0.0000e+00\n",
      "Epoch 89/100\n",
      "22/22 [==============================] - 0s 8ms/step - loss: 0.1456 - acc: 0.0000e+00\n",
      "Epoch 90/100\n",
      "22/22 [==============================] - 0s 8ms/step - loss: 0.1401 - acc: 0.0000e+00\n",
      "Epoch 91/100\n",
      "22/22 [==============================] - 0s 8ms/step - loss: 0.1343 - acc: 0.0000e+00\n",
      "Epoch 92/100\n",
      "22/22 [==============================] - 0s 8ms/step - loss: 0.1456 - acc: 0.0000e+00\n",
      "Epoch 93/100\n",
      "22/22 [==============================] - 0s 8ms/step - loss: 0.1340 - acc: 0.0000e+00\n",
      "Epoch 94/100\n",
      "22/22 [==============================] - 0s 8ms/step - loss: 0.1318 - acc: 0.0000e+00\n",
      "Epoch 95/100\n",
      "22/22 [==============================] - 0s 8ms/step - loss: 0.1307 - acc: 0.0000e+00\n",
      "Epoch 96/100\n",
      "22/22 [==============================] - 0s 8ms/step - loss: 0.1278 - acc: 0.0000e+00\n",
      "Epoch 97/100\n",
      "22/22 [==============================] - 0s 8ms/step - loss: 0.1283 - acc: 0.0000e+00\n",
      "Epoch 98/100\n",
      "22/22 [==============================] - 0s 8ms/step - loss: 0.1332 - acc: 0.0000e+00\n",
      "Epoch 99/100\n",
      "22/22 [==============================] - 0s 9ms/step - loss: 0.1325 - acc: 0.0000e+00\n",
      "Epoch 100/100\n",
      "22/22 [==============================] - 0s 9ms/step - loss: 0.1305 - acc: 0.0000e+00\n"
     ]
    },
    {
     "data": {
      "text/plain": [
       "<keras.callbacks.History at 0x1c8e92b3b50>"
      ]
     },
     "execution_count": 37,
     "metadata": {},
     "output_type": "execute_result"
    }
   ],
   "source": [
    "m.fit(x = X,y=labels,epochs=100)"
   ]
  },
  {
   "cell_type": "code",
   "execution_count": 38,
   "metadata": {},
   "outputs": [
    {
     "data": {
      "image/png": "[encoded data removed]",
      "text/plain": [
       "<Figure size 432x288 with 1 Axes>"
      ]
     },
     "metadata": {
      "needs_background": "light"
     },
     "output_type": "display_data"
    }
   ],
   "source": [
    "import matplotlib.pyplot as plt\n",
    "\n",
    "l = labels.flatten()\n",
    "p = m(X).numpy().flatten()\n",
    "plt.scatter(range(len(l)),l,c='r')\n",
    "plt.scatter(range(len(l)),p,c='b')\n",
    "plt.show()\n",
    "\n",
    "\n"
   ]
  }
 ],
 "metadata": {
  "kernelspec": {
   "display_name": "Python 3.9.0 64-bit",
   "language": "python",
   "name": "python3"
  },
  "language_info": {
   "codemirror_mode": {
    "name": "ipython",
    "version": 3
   },
   "file_extension": ".py",
   "mimetype": "text/x-python",
   "name": "python",
   "nbconvert_exporter": "python",
   "pygments_lexer": "ipython3",
   "version": "3.9.0"
  },
  "orig_nbformat": 4,
  "vscode": {
   "interpreter": {
    "hash": "d19dfa6399e2b856d22e7d5afa5f7ed47dcc468c9225316cc53d6e16b3fa0ffd"
   }
  }
 },
 "nbformat": 4,
 "nbformat_minor": 2
}
