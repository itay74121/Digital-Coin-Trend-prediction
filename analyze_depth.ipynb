{
 "cells": [
  {
   "cell_type": "code",
   "execution_count": 1,
   "metadata": {},
   "outputs": [],
   "source": [
    "from requests import get\n",
    "from json import loads\n",
    "import numpy as np\n",
    "from pandas import DataFrame,read_csv\n",
    "from matplotlib import pyplot as plt\n",
    "import tensorflow as tf"
   ]
  },
  {
   "cell_type": "code",
   "execution_count": 47,
   "metadata": {},
   "outputs": [
    {
     "name": "stdout",
     "output_type": "stream",
     "text": [
      "Model: \"model_13\"\n",
      "_________________________________________________________________\n",
      " Layer (type)                Output Shape              Param #   \n",
      "=================================================================\n",
      " input_15 (InputLayer)       [(None, 1)]               0         \n",
      "                                                                 \n",
      " dense_46 (Dense)            (None, 100)               200       \n",
      "                                                                 \n",
      " dense_47 (Dense)            (None, 100)               10100     \n",
      "                                                                 \n",
      " dense_48 (Dense)            (None, 1)                 101       \n",
      "                                                                 \n",
      "=================================================================\n",
      "Total params: 10,401\n",
      "Trainable params: 10,401\n",
      "Non-trainable params: 0\n",
      "_________________________________________________________________\n"
     ]
    }
   ],
   "source": [
    "i = tf.keras.layers.Input((1,))\n",
    "out = tf.keras.layers.Dense(100,activation='relu')(i)\n",
    "out = tf.keras.layers.Dense(100,activation='relu')(out)\n",
    "# out = tf.keras.layers.Dense(32)(out)\n",
    "out = tf.keras.layers.Dense(1)(out)\n",
    "model = tf.keras.Model(inputs=i,outputs=out)\n",
    "\n",
    "\n",
    "lr_schedule = tf.keras.optimizers.schedules.ExponentialDecay(\n",
    "   1e-2,625, 0.9, name=None\n",
    ")\n",
    "adam = tf.keras.optimizers.Adam(\n",
    "    learning_rate=lr_schedule,\n",
    "    beta_1=0.9,\n",
    "    beta_2=0.999,\n",
    "    epsilon=1e-7,\n",
    "    amsgrad=False,\n",
    "    name='Adam'\n",
    ")\n",
    "\n",
    "\n",
    "\n",
    "model.compile(optimizer=adam, loss=\"mean_absolute_error\", metrics=[\"mae\"])\n",
    "model.summary()"
   ]
  },
  {
   "cell_type": "code",
   "execution_count": 40,
   "metadata": {},
   "outputs": [],
   "source": [
    "x = np.linspace(-np.pi,np.pi,10000)\n",
    "y = np.sin(x)\n",
    "x = tf.convert_to_tensor(x)\n",
    "x = tf.reshape(x,(10000,1))\n",
    "y = tf.reshape(y,(10000,1))"
   ]
  },
  {
   "cell_type": "code",
   "execution_count": 48,
   "metadata": {},
   "outputs": [
    {
     "name": "stdout",
     "output_type": "stream",
     "text": [
      "Epoch 1/32\n",
      "313/313 [==============================] - 1s 3ms/step - loss: 0.0974 - mae: 0.0974\n",
      "Epoch 2/32\n",
      "313/313 [==============================] - 1s 3ms/step - loss: 0.0300 - mae: 0.0300\n",
      "Epoch 3/32\n",
      "313/313 [==============================] - 1s 3ms/step - loss: 0.0268 - mae: 0.0268\n",
      "Epoch 4/32\n",
      "313/313 [==============================] - 1s 4ms/step - loss: 0.0241 - mae: 0.0241\n",
      "Epoch 5/32\n",
      "313/313 [==============================] - 1s 5ms/step - loss: 0.0185 - mae: 0.0185\n",
      "Epoch 6/32\n",
      "313/313 [==============================] - 1s 5ms/step - loss: 0.0221 - mae: 0.0221\n",
      "Epoch 7/32\n",
      "313/313 [==============================] - 1s 5ms/step - loss: 0.0172 - mae: 0.0172\n",
      "Epoch 8/32\n",
      "313/313 [==============================] - 2s 5ms/step - loss: 0.0150 - mae: 0.0150\n",
      "Epoch 9/32\n",
      "313/313 [==============================] - 2s 5ms/step - loss: 0.0131 - mae: 0.0131\n",
      "Epoch 10/32\n",
      "313/313 [==============================] - 2s 5ms/step - loss: 0.0145 - mae: 0.0145\n",
      "Epoch 11/32\n",
      "313/313 [==============================] - 1s 5ms/step - loss: 0.0123 - mae: 0.0123\n",
      "Epoch 12/32\n",
      "313/313 [==============================] - 2s 5ms/step - loss: 0.0126 - mae: 0.0126\n",
      "Epoch 13/32\n",
      "313/313 [==============================] - 2s 5ms/step - loss: 0.0100 - mae: 0.0100\n",
      "Epoch 14/32\n",
      "313/313 [==============================] - 2s 5ms/step - loss: 0.0109 - mae: 0.0109\n",
      "Epoch 15/32\n",
      "313/313 [==============================] - 2s 5ms/step - loss: 0.0093 - mae: 0.0093\n",
      "Epoch 16/32\n",
      "313/313 [==============================] - 2s 5ms/step - loss: 0.0102 - mae: 0.0102\n",
      "Epoch 17/32\n",
      "313/313 [==============================] - 2s 5ms/step - loss: 0.0094 - mae: 0.0094\n",
      "Epoch 18/32\n",
      "313/313 [==============================] - 2s 5ms/step - loss: 0.0074 - mae: 0.0074\n",
      "Epoch 19/32\n",
      "313/313 [==============================] - 2s 5ms/step - loss: 0.0076 - mae: 0.0076\n",
      "Epoch 20/32\n",
      "313/313 [==============================] - 2s 5ms/step - loss: 0.0072 - mae: 0.0072\n",
      "Epoch 21/32\n",
      "313/313 [==============================] - 2s 5ms/step - loss: 0.0064 - mae: 0.0064\n",
      "Epoch 22/32\n",
      "313/313 [==============================] - 2s 5ms/step - loss: 0.0062 - mae: 0.0062\n",
      "Epoch 23/32\n",
      "313/313 [==============================] - 2s 5ms/step - loss: 0.0068 - mae: 0.0068\n",
      "Epoch 24/32\n",
      "313/313 [==============================] - 2s 5ms/step - loss: 0.0058 - mae: 0.0058\n",
      "Epoch 25/32\n",
      "313/313 [==============================] - 2s 5ms/step - loss: 0.0058 - mae: 0.0058\n",
      "Epoch 26/32\n",
      "313/313 [==============================] - 2s 5ms/step - loss: 0.0052 - mae: 0.0052\n",
      "Epoch 27/32\n",
      "313/313 [==============================] - 2s 5ms/step - loss: 0.0052 - mae: 0.0052\n",
      "Epoch 28/32\n",
      "313/313 [==============================] - 2s 5ms/step - loss: 0.0041 - mae: 0.0041\n",
      "Epoch 29/32\n",
      "313/313 [==============================] - 2s 5ms/step - loss: 0.0042 - mae: 0.0042\n",
      "Epoch 30/32\n",
      "313/313 [==============================] - 2s 5ms/step - loss: 0.0049 - mae: 0.0049\n",
      "Epoch 31/32\n",
      "313/313 [==============================] - 2s 5ms/step - loss: 0.0038 - mae: 0.0038\n",
      "Epoch 32/32\n",
      "313/313 [==============================] - 2s 5ms/step - loss: 0.0037 - mae: 0.0037\n"
     ]
    },
    {
     "data": {
      "text/plain": [
       "<keras.callbacks.History at 0x20bf4f349c8>"
      ]
     },
     "execution_count": 48,
     "metadata": {},
     "output_type": "execute_result"
    }
   ],
   "source": [
    "p_ = model(x)\n",
    "model.fit(x=x,y=y,epochs=32,batch_size=32)"
   ]
  },
  {
   "cell_type": "code",
   "execution_count": 49,
   "metadata": {},
   "outputs": [
    {
     "data": {
      "image/png": "[encoded data removed]",
      "text/plain": [
       "<Figure size 432x288 with 1 Axes>"
      ]
     },
     "metadata": {
      "needs_background": "light"
     },
     "output_type": "display_data"
    }
   ],
   "source": [
    "p = model(x)\n",
    "p = p.numpy().flatten()\n",
    "plt.plot(x,y,color='r')\n",
    "plt.plot(x,p,color='b')\n",
    "plt.plot(x,p_,color='g')\n",
    "plt.show()"
   ]
  }
 ],
 "metadata": {
  "interpreter": {
   "hash": "7db821986d699a458b6831c207daf06594b2df0f12601a94f5be5a3a8c1e7e9b"
  },
  "kernelspec": {
   "display_name": "Python 3.7.13 ('envi')",
   "language": "python",
   "name": "python3"
  },
  "language_info": {
   "codemirror_mode": {
    "name": "ipython",
    "version": 3
   },
   "file_extension": ".py",
   "mimetype": "text/x-python",
   "name": "python",
   "nbconvert_exporter": "python",
   "pygments_lexer": "ipython3",
   "version": "3.7.13"
  },
  "orig_nbformat": 4
 },
 "nbformat": 4,
 "nbformat_minor": 2
}
